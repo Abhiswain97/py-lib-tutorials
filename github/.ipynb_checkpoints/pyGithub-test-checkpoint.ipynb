{
 "cells": [
  {
   "cell_type": "code",
   "execution_count": 1,
   "id": "95920c41",
   "metadata": {},
   "outputs": [],
   "source": [
    "from github import Github\n",
    "from pprint import pprint"
   ]
  },
  {
   "cell_type": "code",
   "execution_count": 2,
   "id": "04656cce",
   "metadata": {},
   "outputs": [],
   "source": [
    "with open(\"token.txt\", \"r\") as f:\n",
    "    token = f.read()\n",
    "\n",
    "g = Github(token)\n",
    "\n",
    "user = g.get_user(login=\"Abhiswain97\")"
   ]
  },
  {
   "cell_type": "code",
   "execution_count": 3,
   "id": "a6ee2ce7",
   "metadata": {},
   "outputs": [
    {
     "data": {
      "text/plain": [
       "NamedUser(login=\"Abhiswain97\")"
      ]
     },
     "execution_count": 3,
     "metadata": {},
     "output_type": "execute_result"
    }
   ],
   "source": [
    "user"
   ]
  },
  {
   "cell_type": "code",
   "execution_count": 18,
   "id": "990e78ff",
   "metadata": {},
   "outputs": [],
   "source": [
    "query = \"libtorch created:2021-04\""
   ]
  },
  {
   "cell_type": "code",
   "execution_count": 19,
   "id": "fc361c9a",
   "metadata": {},
   "outputs": [],
   "source": [
    "res = g.search_repositories(query=query)"
   ]
  },
  {
   "cell_type": "code",
   "execution_count": 28,
   "id": "a03b27ef",
   "metadata": {},
   "outputs": [],
   "source": [
    "repo_name_url = {}\n",
    "for repo in user.get_repos():\n",
    "    repo_name_url[repo.name] = {\"url\": repo.url, \"html_url\": repo.html_url}"
   ]
  },
  {
   "cell_type": "code",
   "execution_count": 29,
   "id": "3fcae283",
   "metadata": {},
   "outputs": [
    {
     "data": {
      "text/plain": [
       "{'Abhiswain97': {'url': 'https://api.github.com/repos/Abhiswain97/Abhiswain97',\n",
       "  'html_url': 'https://github.com/Abhiswain97/Abhiswain97'},\n",
       " 'CheXNet': {'url': 'https://api.github.com/repos/Abhiswain97/CheXNet',\n",
       "  'html_url': 'https://github.com/Abhiswain97/CheXNet'},\n",
       " 'contact-keeper': {'url': 'https://api.github.com/repos/Abhiswain97/contact-keeper',\n",
       "  'html_url': 'https://github.com/Abhiswain97/contact-keeper'},\n",
       " 'Currency-Converter': {'url': 'https://api.github.com/repos/Abhiswain97/Currency-Converter',\n",
       "  'html_url': 'https://github.com/Abhiswain97/Currency-Converter'},\n",
       " 'Data-Structures-and-Algorithms': {'url': 'https://api.github.com/repos/Abhiswain97/Data-Structures-and-Algorithms',\n",
       "  'html_url': 'https://github.com/Abhiswain97/Data-Structures-and-Algorithms'},\n",
       " 'github-finder': {'url': 'https://api.github.com/repos/Abhiswain97/github-finder',\n",
       "  'html_url': 'https://github.com/Abhiswain97/github-finder'},\n",
       " 'Higher-or-lower': {'url': 'https://api.github.com/repos/Abhiswain97/Higher-or-lower',\n",
       "  'html_url': 'https://github.com/Abhiswain97/Higher-or-lower'},\n",
       " 'Leaf_disease_detection': {'url': 'https://api.github.com/repos/Abhiswain97/Leaf_disease_detection',\n",
       "  'html_url': 'https://github.com/Abhiswain97/Leaf_disease_detection'},\n",
       " 'libtorch-example-codes': {'url': 'https://api.github.com/repos/Abhiswain97/libtorch-example-codes',\n",
       "  'html_url': 'https://github.com/Abhiswain97/libtorch-example-codes'},\n",
       " 'LibtorchDemo': {'url': 'https://api.github.com/repos/Abhiswain97/LibtorchDemo',\n",
       "  'html_url': 'https://github.com/Abhiswain97/LibtorchDemo'},\n",
       " 'MyBlog': {'url': 'https://api.github.com/repos/Abhiswain97/MyBlog',\n",
       "  'html_url': 'https://github.com/Abhiswain97/MyBlog'},\n",
       " 'MyVision': {'url': 'https://api.github.com/repos/Abhiswain97/MyVision',\n",
       "  'html_url': 'https://github.com/Abhiswain97/MyVision'},\n",
       " 'Neural-Networks-and-Deep-Learning-in-Julia': {'url': 'https://api.github.com/repos/Abhiswain97/Neural-Networks-and-Deep-Learning-in-Julia',\n",
       "  'html_url': 'https://github.com/Abhiswain97/Neural-Networks-and-Deep-Learning-in-Julia'},\n",
       " 'PGDiplomaUOH': {'url': 'https://api.github.com/repos/Abhiswain97/PGDiplomaUOH',\n",
       "  'html_url': 'https://github.com/Abhiswain97/PGDiplomaUOH'},\n",
       " 'PGD_UOH': {'url': 'https://api.github.com/repos/Abhiswain97/PGD_UOH',\n",
       "  'html_url': 'https://github.com/Abhiswain97/PGD_UOH'},\n",
       " 'pluto-jl-jupyter-conversion-cleaner': {'url': 'https://api.github.com/repos/Abhiswain97/pluto-jl-jupyter-conversion-cleaner',\n",
       "  'html_url': 'https://github.com/Abhiswain97/pluto-jl-jupyter-conversion-cleaner'},\n",
       " 'PyTorch_implementation_of_papers': {'url': 'https://api.github.com/repos/Abhiswain97/PyTorch_implementation_of_papers',\n",
       "  'html_url': 'https://github.com/Abhiswain97/PyTorch_implementation_of_papers'}}"
      ]
     },
     "execution_count": 29,
     "metadata": {},
     "output_type": "execute_result"
    }
   ],
   "source": [
    "repo_name_url"
   ]
  },
  {
   "cell_type": "code",
   "execution_count": null,
   "id": "c4584b8b",
   "metadata": {},
   "outputs": [],
   "source": []
  }
 ],
 "metadata": {
  "kernelspec": {
   "display_name": "Python 3",
   "language": "python",
   "name": "python3"
  },
  "language_info": {
   "codemirror_mode": {
    "name": "ipython",
    "version": 3
   },
   "file_extension": ".py",
   "mimetype": "text/x-python",
   "name": "python",
   "nbconvert_exporter": "python",
   "pygments_lexer": "ipython3",
   "version": "3.8.8"
  }
 },
 "nbformat": 4,
 "nbformat_minor": 5
}
